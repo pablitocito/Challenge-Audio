{
  "cells": [
    {
      "cell_type": "markdown",
      "metadata": {
        "id": "rcpjqMU0S6Q9"
      },
      "source": [
        "Ce template a pour objectif d'avoir les commandes principales pour manipuler un fichier .mp3.\n",
        "\n",
        "Dans ce template, toutes les opérations seront réalisées sur un unique fichier mp3 : 00pcolwO8c6vOxOUwpZ0QM.mp3\n",
        "\n",
        "Avant de commencer, le notebook est conçu pour fonctionner dans l'architecture suivante :\n",
        "\n",
        "````\n",
        "challenge-spotify\n",
        "     |---mp3_files\n",
        "     |       |--- 00pcolwO8c6vOxOUwpZ0QM.mp3\n",
        "     |       |--- ...\n",
        "     |\n",
        "     |---template_challenge_spotify.ipynb\n",
        "     |---train_dataset.csv\n",
        "     |---test_dataset.csv\n",
        "     |---sample_submission.csv\n",
        "````\n",
        "\n",
        "### 1- Installation des packages"
      ]
    },
    {
      "cell_type": "code",
      "execution_count": null,
      "metadata": {
        "id": "6cBHmlM3S6RB"
      },
      "outputs": [],
      "source": [
        "%%capture\n",
        "%pip install librosa\n",
        "%pip install pandas\n",
        "%pip install numpy"
      ]
    },
    {
      "cell_type": "markdown",
      "metadata": {
        "id": "6xgAxnqpS6RD"
      },
      "source": [
        "*PS : par précaution, re-démarrer le kernel après l'installation des packages*"
      ]
    },
    {
      "cell_type": "markdown",
      "metadata": {
        "id": "_k-jbYC7S6RE"
      },
      "source": [
        "### 2- Lecture d'un fichier mp3 avec le package librosa\n",
        "\n",
        "Lien vers la [documentation de librosa](https://librosa.org/doc/latest/index.html)"
      ]
    },
    {
      "cell_type": "code",
      "execution_count": null,
      "metadata": {
        "id": "x2HwPUFQS6RF"
      },
      "outputs": [],
      "source": [
        "import librosa\n",
        "import numpy as np\n",
        "\n",
        "def get_audio_time_series(filename:str):\n",
        "    '''\n",
        "    Reads a mp3 file\n",
        "\n",
        "    Returns a tuple containing y, the audio time series, and sr, the sampling rate of y\n",
        "    '''\n",
        "    try:\n",
        "        y, sr = librosa.load(filename)\n",
        "        return y, sr\n",
        "    except:\n",
        "        pass"
      ]
    },
    {
      "cell_type": "code",
      "execution_count": null,
      "metadata": {
        "id": "rHC39EUxS6RH"
      },
      "outputs": [],
      "source": [
        "filename_template = 'mp3_files/00pcolwO8c6vOxOUwpZ0QM.mp3'\n",
        "y, sr = get_audio_time_series(filename = filename_template)"
      ]
    },
    {
      "cell_type": "markdown",
      "metadata": {
        "id": "jvo0yuULS6RI"
      },
      "source": [
        "### 3- Extraction d'une feature avec librosa"
      ]
    },
    {
      "cell_type": "code",
      "execution_count": null,
      "metadata": {
        "id": "HIs9FEGzS6RJ"
      },
      "outputs": [],
      "source": [
        "def get_spectral_centroid(y:np.ndarray, sr:int)->np.ndarray:\n",
        "    '''\n",
        "    Reads y, the audio time series and sr the sampling rate of y\n",
        "\n",
        "    Returns the centroid frequencies\n",
        "    '''\n",
        "    return librosa.feature.spectral_centroid(y=y, sr=sr)"
      ]
    },
    {
      "cell_type": "code",
      "execution_count": null,
      "metadata": {
        "id": "6ncOrUMkS6RK"
      },
      "outputs": [],
      "source": [
        "spectral_frequencies = get_spectral_centroid(y,sr)"
      ]
    }
  ],
  "metadata": {
    "kernelspec": {
      "display_name": "Python 3.9.12 ('base')",
      "language": "python",
      "name": "python3"
    },
    "language_info": {
      "codemirror_mode": {
        "name": "ipython",
        "version": 3
      },
      "file_extension": ".py",
      "mimetype": "text/x-python",
      "name": "python",
      "nbconvert_exporter": "python",
      "pygments_lexer": "ipython3",
      "version": "3.9.12"
    },
    "orig_nbformat": 4,
    "vscode": {
      "interpreter": {
        "hash": "5fb353eaafef7e590ffe1c65c14cfb0a23d5745d5ea0050cbb6dd04d512a4fc4"
      }
    },
    "colab": {
      "provenance": []
    }
  },
  "nbformat": 4,
  "nbformat_minor": 0
}