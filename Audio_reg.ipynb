{
 "cells": [
  {
   "cell_type": "markdown",
   "metadata": {},
   "source": [
    "# Install packages"
   ]
  },
  {
   "cell_type": "code",
   "execution_count": 1,
   "metadata": {},
   "outputs": [],
   "source": [
    "%%capture\n",
    "%pip install librosa\n",
    "%pip install pandas\n",
    "%pip install numpy"
   ]
  },
  {
   "cell_type": "code",
   "execution_count": 2,
   "metadata": {},
   "outputs": [],
   "source": [
    "import librosa\n",
    "import numpy as np"
   ]
  },
  {
   "cell_type": "code",
   "execution_count": null,
   "metadata": {},
   "outputs": [],
   "source": [
    "import torch\n",
    "import torch.nn as nn\n",
    "from transformers import EfficientNetImageProcessor, EfficientNetForImageClassification, EfficientNetConfig\n",
    "import torchvision.models as models"
   ]
  },
  {
   "cell_type": "markdown",
   "metadata": {},
   "source": [
    "# Template functions"
   ]
  },
  {
   "cell_type": "code",
   "execution_count": 3,
   "metadata": {},
   "outputs": [],
   "source": [
    "def get_audio_time_series(filename:str):\n",
    "    '''\n",
    "    Reads a mp3 file\n",
    "\n",
    "    Returns a tuple containing y, the audio time series, and sr, the sampling rate of y\n",
    "    '''\n",
    "    try:\n",
    "        y, sr = librosa.load(filename)\n",
    "        return y, sr\n",
    "    except:\n",
    "        pass"
   ]
  },
  {
   "cell_type": "code",
   "execution_count": 5,
   "metadata": {},
   "outputs": [],
   "source": [
    "filename_template = 'mp3_files/00pcolwO8c6vOxOUwpZ0QM.mp3'\n",
    "y, sr = get_audio_time_series(filename = filename_template)"
   ]
  },
  {
   "cell_type": "markdown",
   "metadata": {},
   "source": [
    "# Utils"
   ]
  },
  {
   "cell_type": "code",
   "execution_count": null,
   "metadata": {},
   "outputs": [],
   "source": []
  },
  {
   "cell_type": "markdown",
   "metadata": {},
   "source": [
    "# Dataloader"
   ]
  },
  {
   "cell_type": "code",
   "execution_count": null,
   "metadata": {},
   "outputs": [],
   "source": []
  },
  {
   "cell_type": "markdown",
   "metadata": {},
   "source": [
    "# EfficientNet_Audio"
   ]
  },
  {
   "cell_type": "code",
   "execution_count": null,
   "metadata": {},
   "outputs": [],
   "source": [
    "class Audio_Effnet(nn.Module):\n",
    "    def __init__(self, num_classes,train = True):\n",
    "\n",
    "        ''' We use a pretrained model. The backbone of the model will be the efficientnet,then we take out the classification layers and add a linear layer \n",
    "        at the end.'''\n",
    "\n",
    "        super(Audio_Effnet, self).__init__()\n",
    "\n",
    "        self.backbone =  models.efficientnet_b0(weights='EfficientNet_B0_Weights.DEFAULT',include_top=False)\n",
    "        print('Backbone loaded')\n",
    "        # Freeze the layer of the pre-trained model except the last one\n",
    "        print('[INFO]: Freezing hidden layers...')\n",
    "        if train == True :\n",
    "            for param in self.backbone.parameters():\n",
    "                param.requires_grad = True\n",
    "                print('[INFO]: Hidden layers Not Freezed')\n",
    "                \n",
    "        else:\n",
    "            for param in self.backbone.parameters():\n",
    "                param.requires_grad = False\n",
    "                print('[INFO]: Hidden layers Freezed')\n",
    "        \n",
    "        # To identify the number of in features, it is necessary to look at the shape of x before the step self.fc(x)\n",
    "        \n",
    "    \n",
    "        self.classifier = nn.Sequential(\n",
    "            nn.Linear(in_features = 196, out_features = num_classes, bias=True), \n",
    "            nn.Softmax(dim=1)  # Softmax activation for classification\n",
    "        )\n",
    "\n",
    "\n",
    "\n",
    "        \n",
    "    def forward(self, x):      \n",
    "        # separately pass five different time steps (2 in each direction), each again stacked with three channels\n",
    "        outputs = []\n",
    "        #print('Before cat :',x.shape)\n",
    "        batch_size, timesteps, _, _,_ = x.size()\n",
    "        for i in range(5):\n",
    "            temp = self.backbone.features(x[:,i,:,:,:])\n",
    "            outputs.append(temp)  \n",
    "       \n",
    "        stacked_output = torch.stack(outputs, dim=1)\n",
    "        # Print x to identify its structure\n",
    "\n",
    "        reshaped_features = self.conv3D(stacked_output)   \n",
    "\n",
    "        \n",
    "        summarized_tensor = reshaped_features.mean(dim=1)\n",
    "        output = self.classifier(summarized_tensor )\n",
    "        \n",
    "\n",
    "        return output\n"
   ]
  }
 ],
 "metadata": {
  "kernelspec": {
   "display_name": "base",
   "language": "python",
   "name": "python3"
  },
  "language_info": {
   "codemirror_mode": {
    "name": "ipython",
    "version": 3
   },
   "file_extension": ".py",
   "mimetype": "text/x-python",
   "name": "python",
   "nbconvert_exporter": "python",
   "pygments_lexer": "ipython3",
   "version": "3.9.13"
  },
  "orig_nbformat": 4
 },
 "nbformat": 4,
 "nbformat_minor": 2
}
